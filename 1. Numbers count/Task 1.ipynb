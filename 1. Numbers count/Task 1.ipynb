{
 "cells": [
  {
   "cell_type": "markdown",
   "id": "d022b861",
   "metadata": {},
   "source": [
    "# Задача 1\n",
    "\n",
    "Нужно написать две программы: Первая генерирует бинарный файл (min 2Гб), состоящий из случайных 32-рязрядных беззнаковых целых чисел (big endian). Вторая считает сумму этих чисел (с применением длинной арифметики), находит минимальное и максимальное число.\n",
    "\n",
    "Реализуйте две версии:\n",
    "1. Простое последовательное чтение \n",
    "2. Многопоточная + memory-mapped files. Сравните время работы."
   ]
  },
  {
   "cell_type": "markdown",
   "id": "6694e3b9",
   "metadata": {},
   "source": [
    "## Импорт библиотек"
   ]
  },
  {
   "cell_type": "code",
   "execution_count": 1,
   "id": "4f7d21dd",
   "metadata": {},
   "outputs": [],
   "source": [
    "import numpy as np\n",
    "import time\n",
    "import mmap\n",
    "import os\n",
    "import threading\n",
    "from multiprocessing import Pool\n",
    "from concurrent.futures import ThreadPoolExecutor, Future\n",
    "import random"
   ]
  },
  {
   "cell_type": "markdown",
   "id": "37e30a14",
   "metadata": {},
   "source": [
    "## Вспомогательные функции"
   ]
  },
  {
   "cell_type": "code",
   "execution_count": 6,
   "id": "c35b6d11",
   "metadata": {},
   "outputs": [],
   "source": [
    "def timed_func(func):\n",
    "    start_time = time.time()\n",
    "    func()\n",
    "    print(time.time() - start_time, \"seconds\")\n",
    "    print(\"---------------------------------------\")\\\n",
    "\n",
    "\n",
    "count = 70000000\n",
    "file_name = 'big_endians.txt'"
   ]
  },
  {
   "cell_type": "markdown",
   "id": "6db1078e",
   "metadata": {},
   "source": [
    "## Простая реализация"
   ]
  },
  {
   "cell_type": "code",
   "execution_count": 7,
   "id": "5dfe9318",
   "metadata": {},
   "outputs": [
    {
     "name": "stdout",
     "output_type": "stream",
     "text": [
      "3850122694452320076938218838198386430459 99999993606373558972276846292936 10000000663292346932245350092448\n",
      "181.20064496994019 seconds\n",
      "---------------------------------------\n"
     ]
    }
   ],
   "source": [
    "def simple_count():\n",
    "    rng = random.SystemRandom(0)\n",
    "    \n",
    "    # file generation\n",
    "    with open(file_name, \"w\") as file:\n",
    "        for step in range(count):\n",
    "            file.write(str(rng.randint(10**31, 10**32)) + '\\n')\n",
    "    \n",
    "    # simple count\n",
    "    sum_num, max_num, min_num = 0, 0, 10**32\n",
    "    mas = []\n",
    "\n",
    "    file = open(file_name)\n",
    "    for line in file.readlines():\n",
    "        num = int(line)\n",
    "        if (num > max_num):\n",
    "            max_num = num\n",
    "        if (num < min_num):\n",
    "            min_num = num\n",
    "        sum_num += num\n",
    "    file.close()\n",
    "\n",
    "    print(sum_num, max_num, min_num)\n",
    "    \n",
    "timed_func(simple_count)\n",
    "os.remove(file_name)"
   ]
  },
  {
   "cell_type": "markdown",
   "id": "62afb11b",
   "metadata": {},
   "source": [
    "## Многопоточная реализация"
   ]
  },
  {
   "cell_type": "code",
   "execution_count": 8,
   "id": "a04a7d79",
   "metadata": {},
   "outputs": [
    {
     "name": "stdout",
     "output_type": "stream",
     "text": [
      "95143381249640068573708990350763180210 99999952378697718053689289691467 10000007228893939576148706090991\n",
      "113.73773074150085 seconds\n",
      "---------------------------------------\n"
     ]
    }
   ],
   "source": [
    "rng = random.SystemRandom(0)\n",
    "\n",
    "sum_num = 0\n",
    "max_num = 0\n",
    "min_num = 10**32\n",
    "\n",
    "lock_min = threading.Lock()\n",
    "lock_max = threading.Lock()\n",
    "\n",
    "dig = 32\n",
    "\n",
    "def search(array, size):\n",
    "        \n",
    "    global sum_num\n",
    "    global max_num\n",
    "    global min_num\n",
    "    \n",
    "    for i in range(0, size):\n",
    "        num = int(array[i*dig: (i+1)*dig])\n",
    "        sum_num += num\n",
    "        \n",
    "        if num > max_num:\n",
    "            max_num = num\n",
    "        if num < min_num:\n",
    "            min_num = num\n",
    "    \n",
    "\n",
    "def multithreads_count():\n",
    "    try:   \n",
    "        # file generation\n",
    "        with open(file_name, 'w', encoding='utf-8') as f:\n",
    "            for num in range(1, count):\n",
    "                f.write(str(rng.randint(10**31, 10**32)))\n",
    "        \n",
    "        \n",
    "        # multithreads count\n",
    "        with open(file_name, 'r+b') as f:\n",
    "            with mmap.mmap(f.fileno(), length=dig * (count-1), offset=0, access=mmap.ACCESS_WRITE) as mm:\n",
    "                # print(mm[0:32])\n",
    "                \n",
    "                chunk = count // 4\n",
    "                executor = ThreadPoolExecutor(max_workers=4)\n",
    "                future1 = executor.submit(search, mm[0: chunk*dig], chunk) \n",
    "                future2 = executor.submit(search, mm[chunk*dig: 2*chunk*dig], chunk)\n",
    "                future3 = executor.submit(search, mm[2*chunk*dig: 3*chunk*dig], chunk)\n",
    "                future4 = executor.submit(search, mm[3*chunk*dig:], chunk)\n",
    "    finally:\n",
    "        os.remove(file_name)\n",
    "        print(sum_num, max_num, min_num)\n",
    "\n",
    "timed_func(multithreads_count)"
   ]
  },
  {
   "cell_type": "code",
   "execution_count": null,
   "id": "cc43e239",
   "metadata": {},
   "outputs": [],
   "source": []
  }
 ],
 "metadata": {
  "kernelspec": {
   "display_name": "Python 3",
   "language": "python",
   "name": "python3"
  },
  "language_info": {
   "codemirror_mode": {
    "name": "ipython",
    "version": 3
   },
   "file_extension": ".py",
   "mimetype": "text/x-python",
   "name": "python",
   "nbconvert_exporter": "python",
   "pygments_lexer": "ipython3",
   "version": "3.9.4"
  }
 },
 "nbformat": 4,
 "nbformat_minor": 5
}
